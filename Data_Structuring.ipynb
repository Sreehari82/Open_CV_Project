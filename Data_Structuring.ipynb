{
 "cells": [
  {
   "cell_type": "code",
   "execution_count": 1,
   "metadata": {},
   "outputs": [
    {
     "name": "stderr",
     "output_type": "stream",
     "text": [
      "C:\\Users\\ADEESH\\AppData\\Local\\Temp\\ipykernel_14900\\309980697.py:29: FutureWarning: Setting an item of incompatible dtype is deprecated and will raise an error in a future version of pandas. Value 'electronics' has dtype incompatible with float64, please explicitly cast to a compatible dtype first.\n",
      "  new_data.at[i, 'ad_category'] = 'electronics'\n"
     ]
    },
    {
     "data": {
      "text/plain": [
       "(   gender dress_type age_range  ad_category\n",
       " 0    male     modern   (15-20)  casual wear\n",
       " 1  female     modern   (38-43)       luxury\n",
       " 2    male     modern     (50+)  electronics\n",
       " 3    male     casual   (44-50)   sportswear\n",
       " 4    male     formal   (33-37)  formal wear,\n",
       " ad_category\n",
       " casual wear           243\n",
       " sportswear            126\n",
       " formal wear            43\n",
       " electronics            39\n",
       " luxury                 38\n",
       " travel and leisure     38\n",
       " Name: count, dtype: int64)"
      ]
     },
     "execution_count": 1,
     "metadata": {},
     "output_type": "execute_result"
    }
   ],
   "source": [
    "import numpy as np\n",
    "import pandas as pd\n",
    "\n",
    "# Rebuild the dataset with patterns\n",
    "np.random.seed(42)\n",
    "\n",
    "# Define the possible values for each column\n",
    "genders = ['male', 'female']\n",
    "dress_types = ['casual', 'modern', 'sportswear', 'formal']\n",
    "age_ranges = ['(15-20)', '(21-24)', '(25-32)', '(33-37)', '(38-43)', '(44-50)', '(50+)']\n",
    "ad_categories = ['sportswear', 'formal wear', 'casual wear', 'travel and leisure', 'luxury', 'electronics']\n",
    "\n",
    "# Create new data with patterns\n",
    "new_data = pd.DataFrame({\n",
    "    'gender': np.random.choice(genders, 527),\n",
    "    'dress_type': np.random.choice(dress_types, 527),\n",
    "    'age_range': np.random.choice(age_ranges, 527),\n",
    "    'ad_category': np.nan  # Initialize with NaN, will be filled based on patterns\n",
    "})\n",
    "\n",
    "# Apply patterns\n",
    "for i in range(len(new_data)):\n",
    "    if new_data.at[i, 'gender'] == 'male':\n",
    "        if new_data.at[i, 'dress_type'] in ['casual', 'sportswear']:\n",
    "            new_data.at[i, 'ad_category'] = 'sportswear'\n",
    "        elif new_data.at[i, 'dress_type'] == 'formal':\n",
    "            new_data.at[i, 'ad_category'] = 'formal wear'\n",
    "        else:\n",
    "            new_data.at[i, 'ad_category'] = 'electronics'\n",
    "    else:\n",
    "        if new_data.at[i, 'dress_type'] == 'modern':\n",
    "            new_data.at[i, 'ad_category'] = 'luxury'\n",
    "        elif new_data.at[i, 'dress_type'] in ['casual', 'sportswear']:\n",
    "            new_data.at[i, 'ad_category'] = 'casual wear'\n",
    "        else:\n",
    "            new_data.at[i, 'ad_category'] = 'travel and leisure'\n",
    "            \n",
    "    # Introduce a pattern based on age range\n",
    "    if new_data.at[i, 'age_range'] in ['(15-20)', '(21-24)', '(25-32)']:\n",
    "        if new_data.at[i, 'ad_category'] != 'sportswear':\n",
    "            new_data.at[i, 'ad_category'] = 'casual wear'\n",
    "\n",
    "# Display the first few rows of the modified dataset to verify the patterns\n",
    "new_data.head(), new_data['ad_category'].value_counts()\n"
   ]
  },
  {
   "cell_type": "code",
   "execution_count": 2,
   "metadata": {},
   "outputs": [],
   "source": [
    "# Save the modified dataset to a CSV file\n",
    "# new_data.to_csv('new_data.csv', index=False)\n"
   ]
  }
 ],
 "metadata": {
  "kernelspec": {
   "display_name": "Python 3",
   "language": "python",
   "name": "python3"
  },
  "language_info": {
   "codemirror_mode": {
    "name": "ipython",
    "version": 3
   },
   "file_extension": ".py",
   "mimetype": "text/x-python",
   "name": "python",
   "nbconvert_exporter": "python",
   "pygments_lexer": "ipython3",
   "version": "3.11.7"
  }
 },
 "nbformat": 4,
 "nbformat_minor": 2
}
